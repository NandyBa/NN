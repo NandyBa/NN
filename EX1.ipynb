{
  "nbformat": 4,
  "nbformat_minor": 0,
  "metadata": {
    "colab": {
      "name": "EX1.ipynb",
      "provenance": [],
      "authorship_tag": "ABX9TyPyanKd6jSTNqHUmaQuJfOh"
    },
    "kernelspec": {
      "name": "python3",
      "display_name": "Python 3"
    }
  },
  "cells": [
    {
      "cell_type": "code",
      "metadata": {
        "id": "ddPshAEorCQH"
      },
      "source": [
        "import pandas as pd\r\n",
        "import numpy as np\r\n",
        "import matplotlib.pyplot as plt\r\n",
        "\r\n",
        "nb_sim=200\r\n",
        "\r\n",
        "X=np.concatenate([np.linspace(0,10,nb_sim),\r\n",
        "                  np.linspace(9,21,nb_sim),\r\n",
        "                  np.linspace(22,30,nb_sim)])\r\n",
        "y=np.concatenate([np.repeat(0,nb_sim),\r\n",
        "                  np.repeat(1,nb_sim),\r\n",
        "                  np.repeat(0,nb_sim)])"
      ],
      "execution_count": 2,
      "outputs": []
    },
    {
      "cell_type": "code",
      "metadata": {
        "id": "LlC0etdbpkrp",
        "colab": {
          "base_uri": "https://localhost:8080/",
          "height": 282
        },
        "outputId": "cf8781a7-145f-441e-8fe5-9ab01db3eb56"
      },
      "source": [
        "plt.scatter(X,y)"
      ],
      "execution_count": 3,
      "outputs": [
        {
          "output_type": "execute_result",
          "data": {
            "text/plain": [
              "<matplotlib.collections.PathCollection at 0x7f6e53f02a90>"
            ]
          },
          "metadata": {
            "tags": []
          },
          "execution_count": 3
        },
        {
          "output_type": "display_data",
          "data": {
            "image/png": "[encoded data removed]",
            "text/plain": [
              "<Figure size 432x288 with 1 Axes>"
            ]
          },
          "metadata": {
            "tags": [],
            "needs_background": "light"
          }
        }
      ]
    }
  ]
}