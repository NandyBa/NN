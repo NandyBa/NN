{
  "nbformat": 4,
  "nbformat_minor": 0,
  "metadata": {
    "colab": {
      "name": "EX1.ipynb",
      "provenance": [],
      "collapsed_sections": [],
      "authorship_tag": "ABX9TyPb0aTC1GSFL9u/27ZGemIC",
      "include_colab_link": true
    },
    "kernelspec": {
      "name": "python3",
      "display_name": "Python 3"
    }
  },
  "cells": [
    {
      "cell_type": "markdown",
      "metadata": {
        "id": "view-in-github",
        "colab_type": "text"
      },
      "source": [
        "<a href=\"https://colab.research.google.com/github/NandyBa/NN/blob/master/EX1.ipynb\" target=\"_parent\"><img src=\"https://colab.research.google.com/assets/colab-badge.svg\" alt=\"Open In Colab\"/></a>"
      ]
    },
    {
      "cell_type": "code",
      "metadata": {
        "id": "ddPshAEorCQH"
      },
      "source": [
        "import pandas as pd\r\n",
        "import numpy as np\r\n",
        "import matplotlib.pyplot as plt\r\n",
        "\r\n",
        "nb_sim=200\r\n",
        "\r\n",
        "X=np.concatenate([np.linspace(0,10,nb_sim),\r\n",
        "                  np.linspace(9,21,nb_sim),\r\n",
        "                  np.linspace(22,30,nb_sim)])\r\n",
        "y=np.concatenate([np.repeat(0,nb_sim),\r\n",
        "                  np.repeat(1,nb_sim),\r\n",
        "                  np.repeat(0,nb_sim)])"
      ],
      "execution_count": 1,
      "outputs": []
    },
    {
      "cell_type": "code",
      "metadata": {
        "id": "LlC0etdbpkrp",
        "colab": {
          "base_uri": "https://localhost:8080/",
          "height": 282
        },
        "outputId": "13adf547-73a8-4e32-85c0-8de083d235b7"
      },
      "source": [
        "plt.scatter(X,y)"
      ],
      "execution_count": 2,
      "outputs": [
        {
          "output_type": "execute_result",
          "data": {
            "text/plain": [
              "<matplotlib.collections.PathCollection at 0x7f933bb8e350>"
            ]
          },
          "metadata": {
            "tags": []
          },
          "execution_count": 2
        },
        {
          "output_type": "display_data",
          "data": {
            "image/png": "[encoded data removed]",
            "text/plain": [
              "<Figure size 432x288 with 1 Axes>"
            ]
          },
          "metadata": {
            "tags": [],
            "needs_background": "light"
          }
        }
      ]
    },
    {
      "cell_type": "markdown",
      "metadata": {
        "id": "d7zsbKitsUWD"
      },
      "source": [
        "# Classification binaire simple"
      ]
    },
    {
      "cell_type": "code",
      "metadata": {
        "id": "ELV5GFcMsaxP"
      },
      "source": [
        "nb_sim=200\r\n",
        "\r\n",
        "X=np.concatenate([np.linspace(0,10,nb_sim),\r\n",
        "                  np.linspace(9,21,nb_sim)])\r\n",
        "y=np.concatenate([np.repeat(0,nb_sim),\r\n",
        "                  np.repeat(1,nb_sim)])"
      ],
      "execution_count": 3,
      "outputs": []
    },
    {
      "cell_type": "code",
      "metadata": {
        "id": "D4Wf5UsN90Uj"
      },
      "source": [
        "from sklearn.model_selection import train_test_split"
      ],
      "execution_count": 4,
      "outputs": []
    },
    {
      "cell_type": "code",
      "metadata": {
        "id": "hf7vi7Ed9sKX"
      },
      "source": [
        "X_train, X_test, y_train, y_test = train_test_split(X, y, test_size=0.33, random_state=42)"
      ],
      "execution_count": 5,
      "outputs": []
    },
    {
      "cell_type": "code",
      "metadata": {
        "colab": {
          "base_uri": "https://localhost:8080/"
        },
        "id": "0YQtJGup7YNR",
        "outputId": "3c83838b-9e90-415d-d4fa-0093808b0f7a"
      },
      "source": [
        "from sklearn.datasets import load_iris\r\n",
        "from sklearn.linear_model import LogisticRegression\r\n",
        "\r\n",
        "clf = LogisticRegression(random_state=0).fit(X_train.reshape(-1, 1), y_train)\r\n",
        "\r\n",
        "\r\n",
        "clf.score(X_test.reshape(-1, 1), y_test)"
      ],
      "execution_count": 6,
      "outputs": [
        {
          "output_type": "execute_result",
          "data": {
            "text/plain": [
              "0.9696969696969697"
            ]
          },
          "metadata": {
            "tags": []
          },
          "execution_count": 6
        }
      ]
    },
    {
      "cell_type": "code",
      "metadata": {
        "id": "p4i5OYZr8J5p"
      },
      "source": [
        "predictions = clf.predict(X_test.reshape(-1, 1))"
      ],
      "execution_count": 7,
      "outputs": []
    },
    {
      "cell_type": "code",
      "metadata": {
        "id": "dQro9AOG8USK"
      },
      "source": [
        "X_t = pd.DataFrame(X_test)\r\n",
        "y_t = pd.DataFrame(y_test)"
      ],
      "execution_count": 8,
      "outputs": []
    },
    {
      "cell_type": "code",
      "metadata": {
        "colab": {
          "base_uri": "https://localhost:8080/",
          "height": 295
        },
        "id": "UW1rYsfa8D3D",
        "outputId": "1a43e6dc-3e75-41f1-fb6d-53666d6f70ab"
      },
      "source": [
        "fig, ax = plt.subplots()\r\n",
        "ax.scatter(X_t[predictions<=0.5], y_t[predictions<=0.5], label='Class 0')\r\n",
        "ax.scatter(X_t[predictions>0.5], y_t[predictions>0.5], color='r', label='Class 1')\r\n",
        "ax.legend()\r\n",
        "ax.set(xlabel='X', ylabel='Y', title='Toy binary classification data set');"
      ],
      "execution_count": 9,
      "outputs": [
        {
          "output_type": "display_data",
          "data": {
            "image/png": "[encoded data removed]",
            "text/plain": [
              "<Figure size 432x288 with 1 Axes>"
            ]
          },
          "metadata": {
            "tags": [],
            "needs_background": "light"
          }
        }
      ]
    }
  ]
}